{
  "nbformat": 4,
  "nbformat_minor": 0,
  "metadata": {
    "colab": {
      "name": "ai-platform-notebooks-template.ipynb",
      "provenance": [],
      "collapsed_sections": [],
      "toc_visible": true
    },
    "kernelspec": {
      "name": "python3",
      "display_name": "Python 3"
    }
  },
  "cells": [
    {
      "cell_type": "code",
      "metadata": {
        "id": "ur8xi4C7S06n",
        "colab_type": "code",
        "colab": {}
      },
      "source": [
        "# Copyright 2020 Google LLC\n",
        "#\n",
        "# Licensed under the Apache License, Version 2.0 (the \"License\");\n",
        "# you may not use this file except in compliance with the License.\n",
        "# You may obtain a copy of the License at\n",
        "#\n",
        "#     https://www.apache.org/licenses/LICENSE-2.0\n",
        "#\n",
        "# Unless required by applicable law or agreed to in writing, software\n",
        "# distributed under the License is distributed on an \"AS IS\" BASIS,\n",
        "# WITHOUT WARRANTIES OR CONDITIONS OF ANY KIND, either express or implied.\n",
        "# See the License for the specific language governing permissions and\n",
        "# limitations under the License."
      ],
      "execution_count": 0,
      "outputs": []
    },
    {
      "cell_type": "markdown",
      "metadata": {
        "id": "eHLV0D7Y5jtU",
        "colab_type": "text"
      },
      "source": [
        "<table align=\"left\">\n",
        "  <td>\n",
        "    <a href=\"https://colab.research.google.com/github/GoogleCloudPlatform/ai-platform-samples/blob/master/notebooks/templates/ai-platform-notebooks-template.ipynb\">\n",
        "      <img src=\"https://cloud.google.com/ml-engine/images/colab-logo-32px.png\" alt=\"Colab logo\"> Run in Colab\n",
        "    </a>\n",
        "  </td>\n",
        "  <td>\n",
        "    <a href=\"https://github.com/GoogleCloudPlatform/ai-platform-samples/blob/master/notebooks/templates/ai-platform-notebooks-template.ipynb\">\n",
        "      <img src=\"https://cloud.google.com/ml-engine/images/github-logo-32px.png\" alt=\"GitHub logo\">\n",
        "      View on GitHub\n",
        "    </a>\n",
        "  </td>\n",
        "</table>"
      ]
    },
    {
      "cell_type": "markdown",
      "metadata": {
        "id": "tvgnzT1CKxrO",
        "colab_type": "text"
      },
      "source": [
        "# Overview\n",
        "\n",
        "{Include a paragraph or two explaining what this example demonstrates, who should be interested in it, and what you need to know before you get started.}\n",
        "\n",
        "### Dataset\n",
        "\n",
        "{Include a paragraph with Dataset information and where to obtain it}\n",
        "\n",
        "### Objective\n",
        "\n",
        "{Include a paragraph or two explaining briefly the goal of notebook, example \n",
        "ML Training, HP tuning, Serving}\n",
        "\n",
        "### Costs \n",
        "\n",
        "This tutorial uses billable components of Google Cloud Platform (GCP):\n",
        "\n",
        "* Cloud AI Platform\n",
        "* Cloud Storage\n",
        "\n",
        "Learn about [Cloud AI Platform\n",
        "pricing](https://cloud.google.com/ml-engine/docs/pricing) and [Cloud Storage\n",
        "pricing](https://cloud.google.com/storage/pricing), and use the [Pricing\n",
        "Calculator](https://cloud.google.com/products/calculator/)\n",
        "to generate a cost estimate based on your projected usage."
      ]
    },
    {
      "cell_type": "markdown",
      "metadata": {
        "id": "BF1j6f9HApxa",
        "colab_type": "text"
      },
      "source": [
        "### Set up your GCP project\n",
        "\n",
        "**The following steps are required, regardless of your notebook environment.**\n",
        "\n",
        "1. [Select or create a GCP project.](https://console.cloud.google.com/cloud-resource-manager). When you first create an account, you get a $300 free credit towards your compute/storage costs.\n",
        "\n",
        "2. [Make sure that billing is enabled for your project.](https://cloud.google.com/billing/docs/how-to/modify-project)\n",
        "\n",
        "3. [Enable the AI Platform APIs and Compute Engine APIs.](https://console.cloud.google.com/flows/enableapi?apiid=ml.googleapis.com,compute_component)\n",
        "\n",
        "4. Enter your project ID in the cell below. Then run the  cell to make sure the\n",
        "Cloud SDK uses the right project for all the commands in this notebook.\n",
        "\n",
        "**Note**: Jupyter runs lines prefixed with `!` as shell commands, and it interpolates Python variables prefixed with `$` into these commands."
      ]
    },
    {
      "cell_type": "code",
      "metadata": {
        "id": "oM1iC_MfAts1",
        "colab_type": "code",
        "colab": {}
      },
      "source": [
        "PROJECT_ID = \"[your-project-id]\" #@param {type:\"string\"}\n",
        "! gcloud config set project $PROJECT_ID"
      ],
      "execution_count": 0,
      "outputs": []
    },
    {
      "cell_type": "markdown",
      "metadata": {
        "id": "dr--iN2kAylZ",
        "colab_type": "text"
      },
      "source": [
        "### Authenticate your GCP account\n",
        "\n",
        "**If you are using AI Platform Notebooks**, your environment is already\n",
        "authenticated. Skip this step."
      ]
    },
    {
      "cell_type": "markdown",
      "metadata": {
        "id": "zgPO1eR3CYjk",
        "colab_type": "text"
      },
      "source": [
        "### Create a Cloud Storage bucket\n",
        "\n",
        "**The following steps are required, regardless of your notebook environment.**\n",
        "\n",
        "When you submit a training job using the Cloud SDK, you upload a Python package\n",
        "containing your training code to a Cloud Storage bucket. AI Platform runs\n",
        "the code from this package. In this tutorial, AI Platform also saves the\n",
        "trained model that results from your job in the same bucket. You can then\n",
        "create an AI Platform model version based on this output in order to serve\n",
        "online predictions.\n",
        "\n",
        "Set the name of your Cloud Storage bucket below. It must be unique across all\n",
        "Cloud Storage buckets. \n",
        "\n",
        "You may also change the `REGION` variable, which is used for operations\n",
        "throughout the rest of this notebook. Make sure to [choose a region where Cloud\n",
        "AI Platform services are\n",
        "available](https://cloud.google.com/ml-engine/docs/tensorflow/regions). You may\n",
        "not use a Multi-Regional Storage bucket for training with AI Platform."
      ]
    },
    {
      "cell_type": "code",
      "metadata": {
        "id": "MzGDU7TWdts_",
        "colab_type": "code",
        "cellView": "both",
        "colab": {}
      },
      "source": [
        "BUCKET_NAME = \"[your-bucket-name]\" #@param {type:\"string\"}"
      ],
      "execution_count": 0,
      "outputs": []
    },
    {
      "cell_type": "markdown",
      "metadata": {
        "id": "-EcIXiGsCePi",
        "colab_type": "text"
      },
      "source": [
        "**Only if your bucket doesn't already exist**: Run the following cell to create your Cloud Storage bucket."
      ]
    },
    {
      "cell_type": "code",
      "metadata": {
        "id": "NIq7R4HZCfIc",
        "colab_type": "code",
        "colab": {}
      },
      "source": [
        "! gsutil mb -l $REGION gs://$BUCKET_NAME"
      ],
      "execution_count": 0,
      "outputs": []
    },
    {
      "cell_type": "markdown",
      "metadata": {
        "id": "ucvCsknMCims",
        "colab_type": "text"
      },
      "source": [
        "Finally, validate access to your Cloud Storage bucket by examining its contents:"
      ]
    },
    {
      "cell_type": "code",
      "metadata": {
        "id": "vhOb7YnwClBb",
        "colab_type": "code",
        "colab": {}
      },
      "source": [
        "! gsutil ls -al gs://$BUCKET_NAME"
      ],
      "execution_count": 0,
      "outputs": []
    },
    {
      "cell_type": "markdown",
      "metadata": {
        "id": "i7EUnXsZhAGF",
        "colab_type": "text"
      },
      "source": [
        "## PIP Install Packages and dependencies\n",
        "\n",
        "Install addional dependencies not install in Notebook environment\n",
        "(e.g. XGBoost, adanet, tf-hub)\n",
        "\n",
        "- Use the latest major GA version of the framework."
      ]
    },
    {
      "cell_type": "code",
      "metadata": {
        "id": "wyy5Lbnzg5fi",
        "colab_type": "code",
        "colab": {}
      },
      "source": [
        "% pip install -U missing_or_updating_package"
      ],
      "execution_count": 0,
      "outputs": []
    },
    {
      "cell_type": "markdown",
      "metadata": {
        "id": "XoEqT2Y4DJmf",
        "colab_type": "text"
      },
      "source": [
        "### Import libraries and define constants"
      ]
    },
    {
      "cell_type": "markdown",
      "metadata": {
        "id": "Y9Uo3tifg1kx",
        "colab_type": "text"
      },
      "source": [
        "{Put all your imports and installs up into a setup section.}\n",
        "\n"
      ]
    },
    {
      "cell_type": "code",
      "metadata": {
        "id": "pRUOFELefqf1",
        "colab_type": "code",
        "colab": {}
      },
      "source": [
        "from __future__ import absolute_import\n",
        "from __future__ import division\n",
        "from __future__ import print_function\n",
        "\n",
        "import tensorflow as tf\n",
        "\n",
        "import numpy as np"
      ],
      "execution_count": 0,
      "outputs": []
    },
    {
      "cell_type": "markdown",
      "metadata": {
        "id": "E6ppE7imft-y",
        "colab_type": "text"
      },
      "source": [
        "# Notes\n",
        "\n",
        "The tips below are specific to notebooks for Tensorflow/Scikit-Learn/PyTorch/XGBoost code. \n",
        "\n",
        "# General\n",
        "\n",
        "- Include the collapsed license at the top (this uses Colab's \"Form\" mode to hide the cells).\n",
        "- Only include a single H1 title.\n",
        "- Include the button-bar immediately under the H1.\n",
        "- Include an overview section before any code.\n",
        "- Put all your installs and imports in a setup section.\n",
        "- Always include the three __future__ imports.\n",
        "- Save the notebook with the Table of Contents open.\n",
        "- Write python3 compatible code.\n",
        "- Keep cells small (~max 20 lines)."
      ]
    },
    {
      "cell_type": "markdown",
      "metadata": {
        "id": "reBCSTKOg47l",
        "colab_type": "text"
      },
      "source": [
        "# Code Style\n",
        "\n",
        " - Notebooks are for people. Write code optimized for clarity.\n",
        "\n",
        " - Demonstrate small parts before combining them into something more complex. Like below:"
      ]
    },
    {
      "cell_type": "code",
      "metadata": {
        "id": "MjJTYC86hPOZ",
        "colab_type": "code",
        "colab": {}
      },
      "source": [
        "#Build the model\n",
        "model = tf.keras.Sequential([\n",
        "    tf.keras.layers.Dense(10, activation='relu', input_shape=(None, 5)),\n",
        "    tf.keras.layers.Dense(3)\n",
        "])"
      ],
      "execution_count": 0,
      "outputs": []
    },
    {
      "cell_type": "code",
      "metadata": {
        "id": "LWymd3KPhP_S",
        "colab_type": "code",
        "colab": {}
      },
      "source": [
        "# Run the model on a single batch of data, and inspect the output.\n",
        "result = model(tf.constant(np.random.randn(10,5), dtype = tf.float32)).numpy()\n",
        "\n",
        "print(\"min:\", result.min())\n",
        "print(\"max:\", result.max())\n",
        "print(\"mean:\", result.mean())\n",
        "print(\"shape:\", result.shape)"
      ],
      "execution_count": 0,
      "outputs": []
    },
    {
      "cell_type": "code",
      "metadata": {
        "id": "y-pQzaxnhR-0",
        "colab_type": "code",
        "colab": {}
      },
      "source": [
        "# Compile the model for training\n",
        "model.compile(optimizer=tf.keras.optimizers.Adam(),\n",
        "              loss=tf.keras.losses.categorical_crossentropy)"
      ],
      "execution_count": 0,
      "outputs": []
    },
    {
      "cell_type": "markdown",
      "metadata": {
        "id": "g0d8u7FmhUNf",
        "colab_type": "text"
      },
      "source": [
        "- Keep examples quick. Use small datasets, or small slices of datasets. You don't need to train to convergence, train until it's obvious it's making progress.\n",
        "\n",
        "- For a large example, don't try to fit all the code in the notebook. Add python files to tensorflow examples, and in the notebook run: \n",
        "! pip install git+https://github.com/tensorflow/examples"
      ]
    },
    {
      "cell_type": "code",
      "metadata": {
        "id": "T0BrRvjJX7Rc",
        "colab_type": "code",
        "colab": {}
      },
      "source": [
        "# Clone repo\n",
        "! git clone https://github.com/GoogleCloudPlatform/professional-services.git\n",
        "% cd professional-services/examples/cloudml-energy-price-forecasting/\n",
        "! sed -i 's/energyforecast\\/data/ai-platform-data\\/energy_data/g' trainer/task.py"
      ],
      "execution_count": 0,
      "outputs": []
    },
    {
      "cell_type": "markdown",
      "metadata": {
        "id": "oOnbQEYehgCZ",
        "colab_type": "text"
      },
      "source": [
        "# Python Style guide\n",
        "\n",
        "- As Guido van Rossum said, “Code is read much more often than it is written”. Please make sure you are following\n",
        "the guidelines to write Python code from the Python style guide.\n",
        "- Writing readable code here is critical. Specially when working with Notebooks: This will help other people, to read and understand your code. Having guidelines that you follow and recognize will make it easier for others to read your code.\n",
        "\n",
        "- [Google Python Style guide](https://github.com/google/styleguide/blob/gh-pages/pyguide.md)\n",
        "\n",
        "# Code content\n",
        "\n",
        "Use the highest level API that gets the job done (unless the goal is to demonstrate the low level API).\n",
        "\n",
        "- Use keras.Sequential > keras functional api > keras model subclassing > ...\n",
        "\n",
        "- Use  model.fit > model.train_on_batch > manual GradientTapes.\n",
        "\n",
        "- Use eager-style code.\n",
        "\n",
        "- Use tensorflow_datasets and tf.data where possible.\n",
        "\n",
        "\n",
        "# Text\n",
        "\n",
        "- Use an imperative style. \"Run a batch of images through the model.\"\n",
        "\n",
        "- Use sentence case in titles/headings.\n",
        "\n",
        "- Use short titles/headings: \"Download the data\", \"Build the Model\", \"Train the model\"."
      ]
    },
    {
      "cell_type": "markdown",
      "metadata": {
        "id": "TpV-iwP9qw9c",
        "colab_type": "text"
      },
      "source": [
        "# Cleaning up\n",
        "\n",
        "To clean up all GCP resources used in this project, you can [delete the GCP\n",
        "project](https://cloud.google.com/resource-manager/docs/creating-managing-projects#shutting_down_projects) you used for the tutorial.\n",
        "\n",
        "{Include commands to delete individual resources below}"
      ]
    },
    {
      "cell_type": "code",
      "metadata": {
        "id": "sx_vKniMq9ZX",
        "colab_type": "code",
        "colab": {}
      },
      "source": [
        "# Delete model version resource\n",
        "! gcloud ai-platform versions delete $MODEL_VERSION --quiet --model $MODEL_NAME \n",
        "\n",
        "# Delete model resource\n",
        "! gcloud ai-platform models delete $MODEL_NAME --quiet\n",
        "\n",
        "# Delete Cloud Storage objects that were created\n",
        "! gsutil -m rm -r $JOB_DIR\n",
        "\n",
        "# If training job is still running, cancel it\n",
        "! gcloud ai-platform jobs cancel $JOB_NAME --quiet"
      ],
      "execution_count": 0,
      "outputs": []
    }
  ]
}